{
 "cells": [
  {
   "cell_type": "code",
   "execution_count": 1,
   "metadata": {},
   "outputs": [],
   "source": [
    "import sqlite3 #importing sqlite3\n",
    "\n",
    "connection = sqlite3.connect('Netflix.db') #connecting sqlite3 to database\n",
    "cursor = connection.cursor() # creating cursor (cursor uses to execute queries)"
   ]
  },
  {
   "cell_type": "code",
   "execution_count": 2,
   "metadata": {},
   "outputs": [
    {
     "data": {
      "text/plain": [
       "<sqlite3.Cursor at 0x2a7426f8d50>"
      ]
     },
     "execution_count": 2,
     "metadata": {},
     "output_type": "execute_result"
    }
   ],
   "source": [
    "cursor.execute(\"create table if not exists TVSHOWS(id INTEGER PRIMARY KEY AUTOINCREMENT,name text,language text,Ratings INTEGER,ReleasingDate TIMESTAMP,Subtitles text)\")"
   ]
  },
  {
   "cell_type": "code",
   "execution_count": 3,
   "metadata": {},
   "outputs": [
    {
     "name": "stdout",
     "output_type": "stream",
     "text": [
      "Enter Tvshow name: yyy\n",
      "Enter language: english\n",
      "Enter Ratings: 5\n",
      "Enter ReleasingDate: 4-8-00\n",
      "Enter Subtitles: true\n"
     ]
    }
   ],
   "source": [
    "name = input(\"Enter Tvshow name: \") # not defining datatype string because it is string as default \n",
    "language =(input(\"Enter language: \")) \n",
    "Ratings = float(input(\"Enter Ratings: \"))\n",
    "ReleasingDate = (input(\"Enter ReleasingDate: \"))\n",
    "Subtitles = (input(\"Enter Subtitles: \"))\n",
    "cursor.execute(\"insert into TVSHOWS(name,language,Ratings,ReleasingDate,Subtitles) values(?,?,?,?,?)\",(name,language,Ratings,ReleasingDate,Subtitles))\n",
    "\n",
    "\n",
    "connection.commit()\n"
   ]
  },
  {
   "cell_type": "code",
   "execution_count": 4,
   "metadata": {},
   "outputs": [
    {
     "data": {
      "text/plain": [
       "[(1, 'strangerthings', 'eng', 5, '4-8-90', 'true'),\n",
       " (2, 'moneyheist', 'eng', 5, '2-jan-20', 'true'),\n",
       " (3, 'sabrina', 'english', 5, '2-8-20', 'true'),\n",
       " (4, 'xx', 'eng', 5, '6-8-00', 'true'),\n",
       " (5, 'yyy', 'english', 5, '4-8-00', 'true')]"
      ]
     },
     "execution_count": 4,
     "metadata": {},
     "output_type": "execute_result"
    }
   ],
   "source": [
    "a = cursor.execute(\"select * from TVSHOWS\")\n",
    "a.fetchall()"
   ]
  },
  {
   "cell_type": "code",
   "execution_count": 8,
   "metadata": {},
   "outputs": [
    {
     "name": "stdout",
     "output_type": "stream",
     "text": [
      "Enter name: Friends\n",
      "Enter id: 4\n"
     ]
    }
   ],
   "source": [
    "name = input(\"Enter name: \")\n",
    "id = int(input(\"Enter id: \"))\n",
    "\n",
    "\n",
    "cursor.execute(\"update TVSHOWS set name = ?  where id = ?  \",(name,id))\n",
    "connection.commit()"
   ]
  },
  {
   "cell_type": "code",
   "execution_count": 9,
   "metadata": {},
   "outputs": [],
   "source": [
    "cursor.execute(\"delete from TVSHOWS where id =4\")\n",
    "connection.commit()"
   ]
  },
  {
   "cell_type": "code",
   "execution_count": 10,
   "metadata": {},
   "outputs": [
    {
     "data": {
      "text/plain": [
       "[(1, 'strangerthings', 'eng', 5, '4-8-90', 'true'),\n",
       " (2, 'moneyheist', 'eng', 5, '2-jan-20', 'true'),\n",
       " (3, 'sabrina', 'english', 5, '2-8-20', 'true'),\n",
       " (5, 'yyy', 'english', 5, '4-8-00', 'true')]"
      ]
     },
     "execution_count": 10,
     "metadata": {},
     "output_type": "execute_result"
    }
   ],
   "source": [
    "a = cursor.execute(\"select * from TVSHOWS\")\n",
    "a.fetchall()"
   ]
  },
  {
   "cell_type": "code",
   "execution_count": 11,
   "metadata": {},
   "outputs": [],
   "source": [
    "cursor.execute('update TVSHOWS set name = \"vampire diaries\" where id = 5')\n",
    "cursor.execute('update TVSHOWS set ReleasingDate = \"10-mar-2017\" where id = 5')\n",
    "connection.commit()"
   ]
  },
  {
   "cell_type": "code",
   "execution_count": 12,
   "metadata": {},
   "outputs": [
    {
     "data": {
      "text/plain": [
       "[(1, 'strangerthings', 'eng', 5, '4-8-90', 'true'),\n",
       " (2, 'moneyheist', 'eng', 5, '2-jan-20', 'true'),\n",
       " (3, 'sabrina', 'english', 5, '2-8-20', 'true'),\n",
       " (5, 'vampire diaries', 'english', 5, '10-mar-2017', 'true')]"
      ]
     },
     "execution_count": 12,
     "metadata": {},
     "output_type": "execute_result"
    }
   ],
   "source": [
    "a = cursor.execute(\"select * from TVSHOWS\")\n",
    "a.fetchall()\n"
   ]
  },
  {
   "cell_type": "code",
   "execution_count": 13,
   "metadata": {},
   "outputs": [
    {
     "data": {
      "text/plain": [
       "<sqlite3.Cursor at 0x2a7426f8d50>"
      ]
     },
     "execution_count": 13,
     "metadata": {},
     "output_type": "execute_result"
    }
   ],
   "source": [
    "cursor.execute(\"create table if not exists MOVIES(id INTEGER PRIMARY KEY AUTOINCREMENT,name text,language text,Ratings INTEGER,ReleasingDate TIMESTAMP,Subtitles text)\")"
   ]
  },
  {
   "cell_type": "code",
   "execution_count": 14,
   "metadata": {},
   "outputs": [
    {
     "name": "stdout",
     "output_type": "stream",
     "text": [
      "Enter Movie name: tt\n",
      "Enter language: eng\n",
      "Enter Ratings: 5\n",
      "Enter ReleasingDate: 6-8-9\n",
      "Enter Subtitles: true\n"
     ]
    }
   ],
   "source": [
    "name = input(\"Enter Movie name: \") # not defining datatype string because it is string as default \n",
    "language =(input(\"Enter language: \")) \n",
    "Ratings = float(input(\"Enter Ratings: \"))\n",
    "ReleasingDate = (input(\"Enter ReleasingDate: \"))\n",
    "Subtitles = (input(\"Enter Subtitles: \"))\n",
    "cursor.execute(\"insert into MOVIES(name,language,Ratings,ReleasingDate,Subtitles) values(?,?,?,?,?)\",(name,language,Ratings,ReleasingDate,Subtitles))\n",
    "\n",
    "\n",
    "connection.commit()"
   ]
  },
  {
   "cell_type": "code",
   "execution_count": 15,
   "metadata": {},
   "outputs": [
    {
     "data": {
      "text/plain": [
       "[(1, 'Harry potter', 'English', 5, '4-Nov-2001', 'English'),\n",
       " (2, 'Iron Man', 'English', 5, '2-may-2008', 'English,french'),\n",
       " (3, 'Dolittle', 'English', 5, ' 17-January-2020', 'English,french'),\n",
       " (4, 'A Quiet Place Part II ', 'English', 5, ' 20-March-2020', 'English'),\n",
       " (5, 'Fast & Furious 9', 'English', 5, '22-May-2020', 'English,french'),\n",
       " (6,\n",
       "  'The Conjuring: The Devil Made Me Do It',\n",
       "  'English',\n",
       "  5,\n",
       "  '11-September-2020',\n",
       "  'English'),\n",
       " (7, 'abc', 'eng', 4, '20-10-20', 'true'),\n",
       " (8, 'tt', 'eng', 5, '6-8-9', 'true')]"
      ]
     },
     "execution_count": 15,
     "metadata": {},
     "output_type": "execute_result"
    }
   ],
   "source": [
    "a = cursor.execute(\"select * from MOVIES\")\n",
    "a.fetchall()"
   ]
  },
  {
   "cell_type": "code",
   "execution_count": 16,
   "metadata": {},
   "outputs": [
    {
     "name": "stdout",
     "output_type": "stream",
     "text": [
      "Enter name: the hunt\n",
      "Enter id: 8\n"
     ]
    }
   ],
   "source": [
    "name = input(\"Enter name: \")\n",
    "id = int(input(\"Enter id: \"))\n",
    "\n",
    "cursor.execute(\"update MOVIES set name = ? where id = ?\",(name,id))\n",
    "connection.commit()"
   ]
  },
  {
   "cell_type": "code",
   "execution_count": 17,
   "metadata": {},
   "outputs": [],
   "source": [
    "cursor.execute(\"delete from MOVIES where id =8\")\n",
    "connection.commit()"
   ]
  },
  {
   "cell_type": "code",
   "execution_count": 18,
   "metadata": {},
   "outputs": [
    {
     "data": {
      "text/plain": [
       "[(1, 'Harry potter', 'English', 5, '4-Nov-2001', 'English'),\n",
       " (2, 'Iron Man', 'English', 5, '2-may-2008', 'English,french'),\n",
       " (3, 'Dolittle', 'English', 5, ' 17-January-2020', 'English,french'),\n",
       " (4, 'A Quiet Place Part II ', 'English', 5, ' 20-March-2020', 'English'),\n",
       " (5, 'Fast & Furious 9', 'English', 5, '22-May-2020', 'English,french'),\n",
       " (6,\n",
       "  'The Conjuring: The Devil Made Me Do It',\n",
       "  'English',\n",
       "  5,\n",
       "  '11-September-2020',\n",
       "  'English'),\n",
       " (7, 'abc', 'eng', 4, '20-10-20', 'true')]"
      ]
     },
     "execution_count": 18,
     "metadata": {},
     "output_type": "execute_result"
    }
   ],
   "source": [
    "a = cursor.execute(\"select * from MOVIES\")\n",
    "a.fetchall()"
   ]
  },
  {
   "cell_type": "code",
   "execution_count": 19,
   "metadata": {},
   "outputs": [
    {
     "data": {
      "text/plain": [
       "<sqlite3.Cursor at 0x2a7426f8d50>"
      ]
     },
     "execution_count": 19,
     "metadata": {},
     "output_type": "execute_result"
    }
   ],
   "source": [
    "cursor.execute(\"create table if not exists DOCUMENTRY(id INTEGER PRIMARY KEY AUTOINCREMENT,name text,language text,Ratings INTEGER,Subtitles text)\")"
   ]
  },
  {
   "cell_type": "code",
   "execution_count": 20,
   "metadata": {},
   "outputs": [
    {
     "name": "stdout",
     "output_type": "stream",
     "text": [
      "Enter DOCUMENTRY name: tttt\n",
      "Enter language: english\n",
      "Enter Ratings: 5\n",
      "Enter Subtitles: true\n"
     ]
    }
   ],
   "source": [
    "name = input(\"Enter DOCUMENTRY name: \") # not defining datatype string because it is string as default \n",
    "language =(input(\"Enter language: \")) \n",
    "Ratings = float(input(\"Enter Ratings: \"))\n",
    "Subtitles = (input(\"Enter Subtitles: \"))\n",
    "cursor.execute(\"insert into DOCUMENTRY(name,language,Ratings,Subtitles) values(?,?,?,?)\",(name,language,Ratings,Subtitles))\n",
    "\n",
    "\n",
    "connection.commit()"
   ]
  },
  {
   "cell_type": "code",
   "execution_count": 21,
   "metadata": {},
   "outputs": [
    {
     "data": {
      "text/plain": [
       "[(1, 'ebola', 'English', 5, 'English'),\n",
       " (2, 'Paris Is Burning', 'English', 5, 'English'),\n",
       " (3, 'Paris Is Burning', 'English', 5, 'English'),\n",
       " (4, 'Feet from Stardom', 'English', 4, 'English+Spanish'),\n",
       " (5, 'Rush: Beyond the Lighted Stage ', 'English', 3, 'English'),\n",
       " (6, 'Tony Robbins: I Am Not Your Guru', 'English', 4, 'English+french'),\n",
       " (7, 'rud', 'English', 5, 'English'),\n",
       " (9, 'Bill Nye: Science Guy', 'english', 5, 'true'),\n",
       " (10, 'Jeffrey Epstein: Filthy Rich', 'english', 4.5, 'true'),\n",
       " (11, 'American Factory', 'English+french', 4.6, 'true'),\n",
       " (12, 'Murder to Mercy: The Cyntoia Brown Story', 'English', 5, 'false'),\n",
       " (13, 'tttt', 'english', 5, 'true')]"
      ]
     },
     "execution_count": 21,
     "metadata": {},
     "output_type": "execute_result"
    }
   ],
   "source": [
    "a = cursor.execute(\"select * from DOCUMENTRY\")\n",
    "a.fetchall()"
   ]
  },
  {
   "cell_type": "code",
   "execution_count": 22,
   "metadata": {},
   "outputs": [
    {
     "data": {
      "text/plain": [
       "<sqlite3.Cursor at 0x2a7426f8d50>"
      ]
     },
     "execution_count": 22,
     "metadata": {},
     "output_type": "execute_result"
    }
   ],
   "source": [
    "cursor.execute(\"create table if not exists ADMIN_LOGIN(Password text)\")"
   ]
  },
  {
   "cell_type": "code",
   "execution_count": 23,
   "metadata": {},
   "outputs": [],
   "source": [
    "cursor.execute(\"insert into ADMIN_LOGIN(Password) values(12345)\")\n",
    "connection.commit()"
   ]
  },
  {
   "cell_type": "code",
   "execution_count": 24,
   "metadata": {},
   "outputs": [],
   "source": [
    "cursor.execute(\"delete from DOCUMENTRY where id =13\")\n",
    "connection.commit()"
   ]
  },
  {
   "cell_type": "code",
   "execution_count": 25,
   "metadata": {},
   "outputs": [
    {
     "name": "stdout",
     "output_type": "stream",
     "text": [
      "Enter id: 12\n",
      "Enter name: Murder to Mercy\n"
     ]
    }
   ],
   "source": [
    "id = int(input(\"Enter id: \"))\n",
    "name = input(\"Enter name: \")\n",
    "\n",
    "cursor.execute('update DOCUMENTRY set name = ? where id = ?',(name,id))\n",
    "connection.commit()"
   ]
  },
  {
   "cell_type": "code",
   "execution_count": 26,
   "metadata": {},
   "outputs": [
    {
     "data": {
      "text/plain": [
       "[(1, 'ebola', 'English', 5, 'English'),\n",
       " (2, 'Paris Is Burning', 'English', 5, 'English'),\n",
       " (3, 'Paris Is Burning', 'English', 5, 'English'),\n",
       " (4, 'Feet from Stardom', 'English', 4, 'English+Spanish'),\n",
       " (5, 'Rush: Beyond the Lighted Stage ', 'English', 3, 'English'),\n",
       " (6, 'Tony Robbins: I Am Not Your Guru', 'English', 4, 'English+french'),\n",
       " (7, 'rud', 'English', 5, 'English'),\n",
       " (9, 'Bill Nye: Science Guy', 'english', 5, 'true'),\n",
       " (10, 'Jeffrey Epstein: Filthy Rich', 'english', 4.5, 'true'),\n",
       " (11, 'American Factory', 'English+french', 4.6, 'true'),\n",
       " (12, 'Murder to Mercy', 'English', 5, 'false')]"
      ]
     },
     "execution_count": 26,
     "metadata": {},
     "output_type": "execute_result"
    }
   ],
   "source": [
    "a = cursor.execute(\"select * from DOCUMENTRY\")\n",
    "a.fetchall()"
   ]
  },
  {
   "cell_type": "code",
   "execution_count": null,
   "metadata": {},
   "outputs": [],
   "source": []
  }
 ],
 "metadata": {
  "kernelspec": {
   "display_name": "Python 3",
   "language": "python",
   "name": "python3"
  },
  "language_info": {
   "codemirror_mode": {
    "name": "ipython",
    "version": 3
   },
   "file_extension": ".py",
   "mimetype": "text/x-python",
   "name": "python",
   "nbconvert_exporter": "python",
   "pygments_lexer": "ipython3",
   "version": "3.7.6"
  }
 },
 "nbformat": 4,
 "nbformat_minor": 4
}
